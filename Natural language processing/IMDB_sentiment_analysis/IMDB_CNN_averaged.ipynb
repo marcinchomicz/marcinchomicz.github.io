{
 "cells": [
  {
   "cell_type": "markdown",
   "metadata": {},
   "source": [
    "# **IMDB - single CNN averaged**\n",
    "\n",
    "- In the following script IMDB sentiment reviews is predicted on the basis of averaging prediction of five identicall single layer CNN models\n",
    "- models are trained on partially independent subsets of oryginal data\n",
    "- eventually, test dataset is predicted using each of the trained models, and their predictions are averaged (hard simple voting)"
   ]
  },
  {
   "cell_type": "markdown",
   "metadata": {},
   "source": [
    "**loading modules**"
   ]
  },
  {
   "cell_type": "code",
   "execution_count": 1,
   "metadata": {},
   "outputs": [],
   "source": [
    "import warnings\n",
    "warnings.simplefilter(action='ignore', category=FutureWarning)\n",
    "warnings.simplefilter(action='ignore', category=DeprecationWarning)\n",
    "warnings.simplefilter(action='ignore', category=UserWarning)\n",
    "\n",
    "\n",
    "\n",
    "import os\n",
    "import numpy as np\n",
    "import pandas as pd\n",
    "import datetime as dt\n",
    "import tensorflow as tf\n",
    "import uuid\n",
    "\n",
    "os.environ[\"CUDA_VISIBLE_DEVICES\"]=\"1\" \n",
    "os.environ[\"TF_FORCE_GPU_ALLOW_GROWTH\"]=\"true\" # allows to use the same GPU by more than one process\n",
    "\n",
    "from tensorflow.keras.preprocessing.text import Tokenizer\n",
    "from Preprocessor import Preprocessor\n",
    "from Preprocessor import save_obj as save_obj\n",
    "from Preprocessor import load_obj as load_obj\n",
    "from tensorflow.keras.preprocessing.sequence import pad_sequences\n",
    "from sklearn.model_selection import KFold, train_test_split\n",
    "\n",
    "from tensorflow.keras.callbacks import EarlyStopping, TensorBoard\n",
    "from tensorflow.keras.models import Sequential\n",
    "\n",
    "from hyperopt import hp, tpe, Trials, fmin, STATUS_OK, pyll\n",
    "from shutil import copyfile\n",
    "from sklearn.metrics import accuracy_score"
   ]
  },
  {
   "cell_type": "markdown",
   "metadata": {},
   "source": [
    "## Loading and preprocessing data\n",
    "\n",
    "Data is preprocessedm tokenized and padded<br>\n",
    "Then five subsets are established\n",
    "\n",
    "- Remarks:\n",
    "> - All datasets must be saved for futurre use\n",
    "> - especially datasets after splitting are unique, and they must be prevented"
   ]
  },
  {
   "cell_type": "markdown",
   "metadata": {},
   "source": [
    "**loading raw data and cleanning up texts**\n",
    "- preprocessing operation defined in Preprocessor class (preprocessor.py module)"
   ]
  },
  {
   "cell_type": "code",
   "execution_count": 2,
   "metadata": {},
   "outputs": [
    {
     "name": "stdout",
     "output_type": "stream",
     "text": [
      "Datasets loaded\n",
      "Dataset: train:pos, number of texts: 12500\n",
      "Dataset: train:neg, number of texts: 12500\n",
      "Dataset: test:pos, number of texts: 12500\n",
      "Dataset: test:neg, number of texts: 12500\n",
      "Texts cleanup finished in 0:00:47.743000\n",
      "Storing reviews in two dataframes with shapes: train_data: (25000, 2), test_data: (25000, 2)\n"
     ]
    }
   ],
   "source": [
    "basedir=\"..//src_data//\"\n",
    "preproc=Preprocessor()\n",
    "preproc.load_raw_texts_from_dir(basedir)\n",
    "preproc.perform_text_cleanup()\n",
    "preproc.build_datasets()"
   ]
  },
  {
   "cell_type": "markdown",
   "metadata": {},
   "source": [
    "**Text tokenization and subsets extracted**\n",
    "- reviews have already been randomized\n",
    "- selecting 7500 most common tokens, \n",
    "- review tokenized and padded with length of 612 tokens\n",
    "- splitted into five subset, each containing 20000 reviews for training and 5000 for validation, without overlaps"
   ]
  },
  {
   "cell_type": "code",
   "execution_count": 3,
   "metadata": {},
   "outputs": [],
   "source": [
    "VOCAB_SIZE=7500 # number of most frequent words used\n",
    "PADDING_SIZE=612\n",
    "tokenizer=Tokenizer(num_words=VOCAB_SIZE,oov_token='<OOV>')\n",
    "tokenizer.fit_on_texts(preproc.train_data['Review'])\n",
    "train_sequences=tokenizer.texts_to_sequences(preproc.train_data['Review'])\n",
    "test_sequences=tokenizer.texts_to_sequences(preproc.test_data['Review'])\n",
    "train_labels=preproc.train_data['Sentiment'].values\n",
    "test_labels=preproc.test_data['Sentiment'].values\n",
    "\n",
    "train_sequences=pad_sequences(train_sequences, maxlen=PADDING_SIZE, padding='post', truncating='post')\n",
    "test_sequences=pad_sequences(test_sequences, maxlen=PADDING_SIZE, padding='post', truncating='post')\n",
    "\n",
    "\n",
    "n_splits=5\n",
    "kfold=KFold(n_splits=n_splits, random_state=123)\n",
    "train_datasets={}\n",
    "for idx,train_indices in enumerate(kfold.split(preproc.train_data)):\n",
    "    train_datasets[idx]={'train':train_sequences[train_indices[0]],\n",
    "                         'val':train_sequences[train_indices[1]],\n",
    "                        'train_labels':preproc.train_data['Sentiment'].values.reshape(25000,1)[train_indices[0]],\n",
    "                        'val_labels':preproc.train_data['Sentiment'].values.reshape(25000,1)[train_indices[1]]\n",
    "                        }\n"
   ]
  },
  {
   "cell_type": "markdown",
   "metadata": {},
   "source": [
    "**Saving datasets**\n",
    "- datasets **must** be saved to be reused during predictions averaging"
   ]
  },
  {
   "cell_type": "code",
   "execution_count": 4,
   "metadata": {},
   "outputs": [],
   "source": [
    "save_obj(train_datasets,'data//averager_train_datasets.pkl')\n",
    "save_obj(test_sequences,'data//averager_test_sequences.pkl')\n",
    "save_obj(test_labels,'data//averager_test_labels.pkl')\n",
    "save_obj(train_sequences,'data//averager_train_sequences.pkl')\n",
    "save_obj(train_labels,'data//averager_train_labels.pkl')"
   ]
  },
  {
   "cell_type": "markdown",
   "metadata": {},
   "source": [
    "## Training"
   ]
  },
  {
   "cell_type": "markdown",
   "metadata": {},
   "source": [
    "**model preparation**\n",
    "- responsible for creating a model instance according to passed parameters\n",
    "- some layers are optionall and exists only, if a parameter is non-zero\n",
    "- dropout layers are created only if associated layer is created. "
   ]
  },
  {
   "cell_type": "code",
   "execution_count": 5,
   "metadata": {},
   "outputs": [],
   "source": [
    "def prepare_model(params, model_name='CNN_model'):\n",
    "    tf.reset_default_graph()\n",
    "    inputs=tf.keras.Input(shape=(params['PaddingSize'],),)\n",
    "    stack=tf.keras.layers.Embedding(input_dim=params['VocabSize'], output_dim=params['EmbedDim'], input_length=params['PaddingSize'])(inputs)\n",
    "    if params['EmbedDrop']>0:\n",
    "        stack=tf.keras.layers.Dropout(rate=params['EmbedDrop'])(stack)    \n",
    "    stack=tf.keras.layers.Conv1D(filters=params['CONV_1_units'], \n",
    "                                 kernel_size=params['CONV1_kernel_size'], \n",
    "                                 activation='elu', padding='same',\n",
    "                                 kernel_regularizer=tf.keras.regularizers.l1_l2(\n",
    "                                     l1=params['CONV1_kernel_rgularizer_L1_ratio'], \n",
    "                                     l2=params['CONV1_kernel_rgularizer_L2_ratio']))(stack)\n",
    "    stack=tf.keras.layers.GlobalMaxPooling1D()(stack)\n",
    "    if params['MaxPoolDropout']>0:\n",
    "        stack=tf.keras.layers.Dropout(rate=params['MaxPoolDropout'])(stack)\n",
    "    stack=tf.keras.layers.Dense(units=params['Dense_1_units'], activation='relu', name='Dense_1')(stack)\n",
    "    if params['Dense_1_dropout']>0:\n",
    "        stack=tf.keras.layers.Dropout(rate=params['Dense_1_dropout'])(stack)\n",
    "    if params['Dense_2_units']>0:\n",
    "        stack=tf.keras.layers.Dense(units=params['Dense_2_units'], activation='relu', name='Dense_2')(stack)\n",
    "        if params['Dense_2_dropout']>0:\n",
    "            stack=tf.keras.layers.Dropout(rate=params['Dense_2_dropout'])(stack)\n",
    "    if params['Dense_3_units']>0:\n",
    "        stack=tf.keras.layers.Dense(units=params['Dense_3_units'], activation='relu', name='Dense_3')(stack)\n",
    "        if params['Dense_3_dropout']>0:\n",
    "            stack=tf.keras.layers.Dropout(rate=params['Dense_3_dropout'])(stack)\n",
    "    if params['Dense_4_units']>0:\n",
    "        stack=tf.keras.layers.Dense(units=params['Dense_4_units'], activation='relu', name='Dense_4')(stack)\n",
    "    outputs=tf.keras.layers.Dense(units=1, activation='sigmoid')(stack)\n",
    "    model=tf.keras.Model(inputs=inputs, outputs=outputs, name=model_name)\n",
    "    model.compile(loss='binary_crossentropy',\n",
    "                            optimizer=tf.keras.optimizers.Adam(),\n",
    "                            metrics=['accuracy'])\n",
    "    return model"
   ]
  },
  {
   "cell_type": "markdown",
   "metadata": {},
   "source": [
    "**model training**\n",
    "- model training is performed with early stopping callback, based on validation loss value"
   ]
  },
  {
   "cell_type": "code",
   "execution_count": null,
   "metadata": {},
   "outputs": [],
   "source": [
    "def evaluate_dn_model(model, params, train_datasets, \n",
    "                      max_no_improvement=5, verbose=2, logdir=None, max_epochs=20):\n",
    "    \"\"\"\n",
    "    @model : tensorflow model to evaluate\n",
    "    @padded_sequences_dict : a dictionary with padded sentences and labels\n",
    "    @model_params : params of model\n",
    "    @max_no_improvement: number of epochs with no improvement on validation loss\n",
    "    @verbose: 0 - no printout, 1 - more detailed, 2 - epochs oneliner\n",
    "    @logdir: Tensorboard logging directory. No logging if None, default None\n",
    "    @max_epochs: maximum number of epochs\n",
    "    \"\"\"\n",
    "    start=dt.datetime.now()\n",
    "    #generators to feed model\n",
    "    \n",
    "    #adding callbacks for early stopping and tensorboard data sending \n",
    "    model_callbacks=[\n",
    "        EarlyStopping(min_delta=1e-4, patience=max_no_improvement, \n",
    "                      verbose=verbose, restore_best_weights=True)]\n",
    "    if logdir:\n",
    "        model_callbacks.append(TensorBoard(log_dir=logdir+model.name, \n",
    "                                           write_graph=True, \n",
    "                                           profile_batch=0))\n",
    "    \n",
    "    #training model\n",
    "\n",
    "    history=model.fit(x=train_datasets['train'], \n",
    "              y=train_datasets['train_labels'], \n",
    "              batch_size=params[\"batch_size\"], epochs=max_epochs, verbose=verbose, callbacks=model_callbacks, \n",
    "              validation_data=(train_datasets['val'], train_datasets['val_labels'])\n",
    "             )\n",
    "\n",
    "    #evaluating results\n",
    "    eval_result=model.evaluate(x=train_datasets['val'], y=train_datasets['val_labels'], verbose=verbose )\n",
    "\n",
    "    #store results\n",
    "    training_duration=dt.datetime.now()-start\n",
    "    base_results={\n",
    "         'Evaluation accuracy':eval_result[1],\n",
    "         'Evaluation loss':eval_result[0],\n",
    "         'Duration':training_duration,\n",
    "         'History':history.history,\n",
    "         'Trained params':int(np.sum([tf.keras.backend.count_params(p) for p in set(model.trainable_weights)]))}\n",
    "\n",
    "    return  model, base_results"
   ]
  },
  {
   "cell_type": "markdown",
   "metadata": {},
   "source": [
    "**model architecture and hyperparameters search**\n",
    "- Hyperopt was used for searching for model hyperparameters and architecture (f.e numbers of dense layers and existence of dropout layers)\n",
    "- Hyperparameter search is performed in loops with bayes algorithm for selection the direction of change\n",
    "- Validation loss is used for evaluation of the results of change\n",
    "- every time the change is benefitial, the model is saved\n",
    "- finally the best model is seldected"
   ]
  },
  {
   "cell_type": "code",
   "execution_count": 7,
   "metadata": {},
   "outputs": [
    {
     "name": "stdout",
     "output_type": "stream",
     "text": [
      "100%|████████████████████████████████████████████████| 100/100 [46:59<00:00, 28.19s/it, best loss: 0.10000002384185791]\n",
      "Best model: CNN_OPT//CNN_model_0_7500_100_3_1_a86d728c-4904-4fa6-ad38-a4adcebba39e.hd5\n",
      "100%|████████████████████████████████████████████████| 100/100 [39:47<00:00, 23.88s/it, best loss: 0.10900002717971802]\n",
      "Best model: CNN_OPT//CNN_model_1_7500_100_3_1_845f8668-3f9e-4e6b-a5ed-fd6eb0d5e3fb.hd5\n",
      "100%|████████████████████████████████████████████████| 100/100 [40:02<00:00, 24.03s/it, best loss: 0.10259997844696045]\n",
      "Best model: CNN_OPT//CNN_model_2_7500_100_3_1_161f62ba-13ef-4942-8555-b1daa0c18a24.hd5\n",
      "100%|████████████████████████████████████████████████| 100/100 [40:24<00:00, 24.24s/it, best loss: 0.10680001974105835]\n",
      "Best model: CNN_OPT//CNN_model_3_7500_100_3_1_1f19c601-4a52-42bd-b8f8-93c1d11c1df4.hd5\n",
      "100%|████████████████████████████████████████████████| 100/100 [38:38<00:00, 23.19s/it, best loss: 0.10420000553131104]\n",
      "Best model: CNN_OPT//CNN_model_4_7500_100_3_1_12f05ada-ea5b-4187-b71b-f2698c67d708.hd5\n"
     ]
    }
   ],
   "source": [
    "best_models={}\n",
    "\n",
    "for k in train_datasets:\n",
    "    \n",
    "    last_best_score=0\n",
    "    results_hopt=pd.DataFrame()\n",
    "    def objective_minimum_local(params):\n",
    "        s_=dt.datetime.now()\n",
    "        scores={}\n",
    "        model=prepare_model(params,model_name='CNN_model_{}'.format(k))\n",
    "        model, model_results=evaluate_dn_model(model=model,params=params, train_datasets=train_datasets[k], verbose=0)\n",
    "\n",
    "        loss = 1-model_results['Evaluation accuracy']\n",
    "\n",
    "        global results_hopt\n",
    "        _={x:model_results[x] for x in ['Evaluation accuracy','Evaluation loss','Evaluation loss']}\n",
    "        _={**params,**_}\n",
    "        _['Duration']=dt.datetime.now()-s_\n",
    "        results_hopt=results_hopt.append(pd.DataFrame.from_dict(_,orient='index').T)\n",
    "        results_hopt.to_excel('reports//results_{}_{}_{}_{}_{}.xlsx'.format(model.name,\n",
    "                                                                            params['VocabSize'], \n",
    "                                                                            params['EmbedDim'],\n",
    "                                                                            params['CONV1_kernel_size'],\n",
    "                                                                            os.environ[\"CUDA_VISIBLE_DEVICES\"]))\n",
    "\n",
    "        global last_best_score\n",
    "        model_file=''\n",
    "        if model_results['Evaluation accuracy']>last_best_score:\n",
    "            model_file=\"CNN_OPT//{}_{}_{}_{}_{}_{}.hd5\".format(model.name,\n",
    "                                                               params['VocabSize'], \n",
    "                                                               params['EmbedDim'],\n",
    "                                                               params['CONV1_kernel_size'],\n",
    "                                                               os.environ[\"CUDA_VISIBLE_DEVICES\"],\n",
    "                                                               str(uuid.uuid4()))\n",
    "            model.save(model_file)\n",
    "            last_best_score=model_results['Evaluation accuracy']\n",
    "        return {\"loss\":loss, \"results\":model_results, 'params': params, 'model':model_file, 'status': STATUS_OK, }\n",
    "\n",
    "    params={\n",
    "        # data related params\n",
    "        'PaddingSize': hp.choice('PaddingSize',[PADDING_SIZE]),\n",
    "        'VocabSize': hp.choice('VocabSize',[VOCAB_SIZE]),\n",
    "        # model related params\n",
    "        'EmbedDim':hp.choice('EmbedDim',[100]),\n",
    "        'EmbedDrop':hp.uniform('EmbedDrop',0.,0.5),\n",
    "        'CONV_1_units': pyll.scope.int(hp.uniform('CONV_1_units',100,300)),\n",
    "        'CONV1_kernel_size': hp.choice('CONV1_kernel_size',[3]),\n",
    "        'CONV1_kernel_rgularizer_L2_ratio': hp.uniform('CONV1_kernel_rgularizer_L2_ratio',1e-6,1e-4),\n",
    "        'CONV1_kernel_rgularizer_L1_ratio': hp.uniform('CONV1_kernel_rgularizer_L1_ratio',1e-6,1e-4),\n",
    "        'MaxPoolDropout':hp.uniform('MaxPoolDropout',0.,0.5),\n",
    "        'Dense_1_units':pyll.scope.int(hp.uniform('Dense_1_units',100,400)),\n",
    "        'Dense_2_units':pyll.scope.int(hp.uniform('Dense_2_units',100,400)),\n",
    "        'Dense_3_units':hp.choice('Dense_3_units',[0]),\n",
    "        'Dense_4_units':hp.choice('Dense_4_units',[0]),\n",
    "        'Dense_1_dropout':hp.uniform('Dense_1_dropout',0.,0.5),\n",
    "        'Dense_2_dropout':hp.uniform('Dense_2_dropout',0.,0.5),\n",
    "        'Dense_3_dropout':hp.uniform('Dense_3_dropout',0.,0.5),\n",
    "        'batch_size':hp.choice('batch_size',[16,32,64,96,128])\n",
    "    }\n",
    "\n",
    "    MAX_EVAL=100\n",
    "\n",
    "    bayes_trials = Trials()\n",
    "    best=fmin(fn=objective_minimum_local, space=params, algo=tpe.suggest, max_evals=MAX_EVAL, trials=bayes_trials)\n",
    "    model_uid=bayes_trials.best_trial['result']['model']\n",
    "    print('Best model:', model_uid)\n",
    "    best_models[k]={'model_file':os.path.split(model_uid)[-1], 'model_params':bayes_trials.best_trial['result']['params']}\n",
    "    copyfile(model_uid, os.path.split(model_uid)[-1])"
   ]
  },
  {
   "cell_type": "code",
   "execution_count": null,
   "metadata": {},
   "outputs": [],
   "source": [
    "save_obj(best_models,'best_models_optimized.pkl')"
   ]
  },
  {
   "cell_type": "markdown",
   "metadata": {},
   "source": [
    "## Final results"
   ]
  },
  {
   "cell_type": "code",
   "execution_count": 4,
   "metadata": {},
   "outputs": [],
   "source": [
    "# use this only if the notebook was restarted\n",
    "best_models=load_obj('best_models_optimized.pkl')\n",
    "\n",
    "train_datasets=load_obj('data//averager_train_datasets.pkl')\n",
    "test_sequences=load_obj('data//averager_test_sequences.pkl')\n",
    "test_labels=load_obj('data//averager_test_labels.pkl')\n",
    "train_sequences=load_obj('data//averager_train_sequences.pkl')\n",
    "train_labels=load_obj('data//averager_train_labels.pkl')"
   ]
  },
  {
   "cell_type": "markdown",
   "metadata": {},
   "source": [
    "**evaluating individual models on test sequences**"
   ]
  },
  {
   "cell_type": "code",
   "execution_count": 6,
   "metadata": {},
   "outputs": [
    {
     "name": "stdout",
     "output_type": "stream",
     "text": [
      "25000/25000 [==============================] - 15s 583us/sample - loss: 0.3392 - acc: 0.8812\n",
      "25000/25000 [==============================] - 9s 372us/sample - loss: 0.3177 - acc: 0.8863\n",
      "25000/25000 [==============================] - 10s 395us/sample - loss: 0.3250 - acc: 0.8849\n",
      "25000/25000 [==============================] - 11s 423us/sample - loss: 0.3282 - acc: 0.8819\n",
      "25000/25000 [==============================] - 10s 405us/sample - loss: 0.3180 - acc: 0.8897\n"
     ]
    }
   ],
   "source": [
    "models_optimized={}\n",
    "for k in best_models:\n",
    "    models_optimized[k]=tf.keras.models.load_model(best_models[k]['model_file'])\n",
    "\n",
    "for k in models_optimized:\n",
    "    models_optimized[k].evaluate(x=test_sequences,y=test_labels )\n",
    "       "
   ]
  },
  {
   "cell_type": "markdown",
   "metadata": {},
   "source": [
    "**averaging models predictions**"
   ]
  },
  {
   "cell_type": "code",
   "execution_count": 64,
   "metadata": {},
   "outputs": [],
   "source": [
    "preds_test_proba_df=pd.DataFrame(test_labels, columns=['Test_label'])\n",
    "for k in models_optimized:\n",
    "    preds_test_proba_df=preds_test_proba_df.join(pd.Series(models_optimized[k].predict(x=test_sequences ).reshape(1,-1)[0], name='Model_{}'.format(k)))\n",
    "\n",
    "\n",
    "from sklearn.metrics import classification_report\n",
    "class_reps={}\n",
    "for col in preds_test_proba_df.columns[1:]:\n",
    "    class_reps[col]=classification_report(y_true=preds_test_proba_df['Test_label'],\n",
    "                                          y_pred=preds_test_proba_df[col].apply(\n",
    "                                              lambda x: 1 if x>=0.5 else 0), digits=4, output_dict=True)\n",
    "class_reps['Averaged']=classification_report(y_true=preds_test_proba_df['Test_label'],\n",
    "                                          y_pred=preds_test_proba_df.iloc[:,1:].apply(\n",
    "                                              lambda r: 1 if np.mean(r)>0.5 else 0,axis=1), \n",
    "                                             digits=4, output_dict=True)\n",
    "\n",
    "\n",
    "\n",
    "results_df=pd.DataFrame.from_dict({x:{'accuracy':class_reps[x]['accuracy'],\n",
    "                           'precision_0':class_reps[x]['0']['precision'],\n",
    "                           'precision_1':class_reps[x]['1']['precision']} for x in class_reps}).T\n",
    "results_df.index.name='Model'"
   ]
  },
  {
   "cell_type": "code",
   "execution_count": 66,
   "metadata": {},
   "outputs": [
    {
     "data": {
      "image/png": "[encoded data removed]",
      "text/plain": [
       "<Figure size 1440x432 with 3 Axes>"
      ]
     },
     "metadata": {
      "needs_background": "light"
     },
     "output_type": "display_data"
    }
   ],
   "source": [
    "import seaborn as sns\n",
    "import matplotlib.pyplot as plt\n",
    "fig,ax=plt.subplots(1,3,figsize=(20,6))\n",
    "\n",
    "for x in [(ax[0],'accuracy','Accuracy score'),\n",
    "          (ax[1],'precision_0','Precision for negative reviews'),\n",
    "          (ax[2],'precision_1','Precision for positive reviews')]:\n",
    "    x[0].set_ylim(0.7,0.95)    \n",
    "    sns.barplot(data=results_df.reset_index(),y=x[1],x='Model',ax=x[0])\n",
    "    for p in x[0].patches:\n",
    "        x[0].text(x=p.get_x()+0.25*p.get_width()/2,y=p.get_y()+p.get_height()*1.01,s='{:.4f}'.format(p.get_height()),fontdict={'fontsize':12})\n",
    "    x[0].set_title(x[2])\n",
    "\n"
   ]
  },
  {
   "cell_type": "markdown",
   "metadata": {},
   "source": [
    "## Summary\n",
    "- averaging models improved accuracy score  by ~1% in comparison to best model and ~2% in comparison to the worst\n",
    "- it is worth to mention that improvement is visible for majority of model-metric combination, but not for all of them"
   ]
  },
  {
   "cell_type": "code",
   "execution_count": null,
   "metadata": {},
   "outputs": [],
   "source": []
  }
 ],
 "metadata": {
  "kernelspec": {
   "display_name": "Python 3",
   "language": "python",
   "name": "python3"
  },
  "language_info": {
   "codemirror_mode": {
    "name": "ipython",
    "version": 3
   },
   "file_extension": ".py",
   "mimetype": "text/x-python",
   "name": "python",
   "nbconvert_exporter": "python",
   "pygments_lexer": "ipython3",
   "version": "3.7.5"
  }
 },
 "nbformat": 4,
 "nbformat_minor": 4
}
